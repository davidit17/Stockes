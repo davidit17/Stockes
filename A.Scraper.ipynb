{
 "cells": [
  {
   "cell_type": "code",
   "execution_count": 1,
   "metadata": {},
   "outputs": [],
   "source": [
    "import requests\n",
    "from bs4 import BeautifulSoup\n",
    "from time import sleep\n",
    "import pandas as pd\n",
    "from multiprocessing import Pool\n",
    "import concurrent.futures\n",
    "import time\n",
    "from random import randint"
   ]
  },
  {
   "cell_type": "code",
   "execution_count": 13,
   "metadata": {},
   "outputs": [],
   "source": [
    "#find number of pages in site to scrape\n",
    "\n",
    "base_url = 'https://finance.sponser.co.il/finance/recommendation/index.php'\n",
    "c = requests.get(base_url).content\n",
    "soup=BeautifulSoup(c,\"html.parser\")\n",
    "LastPage = int(soup.findAll(\"li\",{\"class\":\"c-pagination__item\"})[-1].text)\n",
    "\n",
    "BaseUrl = 'https://finance.sponser.co.il/finance/recommendation/index.php?page='\n",
    "#LastPage = 40\n",
    "allUrls = [BaseUrl+str(i) for i in range (1,LastPage+1)]"
   ]
  },
  {
   "cell_type": "code",
   "execution_count": 3,
   "metadata": {},
   "outputs": [],
   "source": [
    "def scrape(url):\n",
    "    #sleep(randint(0,3))\n",
    "    c = requests.get(url).content\n",
    "    soup=BeautifulSoup(c,\"html.parser\")\n",
    "    table = soup.find(\"table\",{\"id\":\"portfolioTable\"})\n",
    "    a = pd.read_html(str(table))[0]\n",
    "    return a"
   ]
  },
  {
   "cell_type": "code",
   "execution_count": 4,
   "metadata": {},
   "outputs": [],
   "source": [
    "# the scraping code\n",
    "\n",
    "# # parse all table with pandas read html \n",
    "\n",
    "# table = soup.find(\"table\",{\"id\":\"portfolioTable\"})\n",
    "# a = pd.read_html(str(table))[0]\n",
    "# len(a)\n",
    "\n",
    "\n",
    "# # parse row by row\n",
    "\n",
    "# # allRows=soup.findAll(\"tr\",{\"class\":\"c-table__row u-border-top-zero\"})\n",
    "\n",
    "# # l = []\n",
    "# # for tr in allRows:\n",
    "# #     td = tr.find_all('span')\n",
    "# #     row = [tr.text for tr in td]\n",
    "# #     l.append(row)\n",
    "# # b = pd.DataFrame(l,columns=['תאריך', 'מניה', 'סוג המלצה', 'בית השקעות', 'אנליסט', 'מחיר בעת המלצה',\n",
    "# #        'מחיר יעד', 'מרחק מהיעד', 'מחיר אחרון'])"
   ]
  },
  {
   "cell_type": "markdown",
   "metadata": {},
   "source": [
    "# simple scrape"
   ]
  },
  {
   "cell_type": "code",
   "execution_count": 5,
   "metadata": {},
   "outputs": [
    {
     "name": "stdout",
     "output_type": "stream",
     "text": [
      "Wall time: 3min\n"
     ]
    }
   ],
   "source": [
    "%%time \n",
    "\n",
    "\n",
    "all_data = pd.DataFrame(columns = ['תאריך', 'מניה', 'סוג המלצה', 'בית השקעות', 'אנליסט', 'מחיר בעת המלצה',\n",
    "       'מחיר יעד', 'מרחק מהיעד', 'מחיר אחרון'])\n",
    "\n",
    "for i in range (1,LastPage+1):\n",
    "    all_data = all_data.append(scrape(BaseUrl+str(i)),ignore_index=True)"
   ]
  },
  {
   "cell_type": "code",
   "execution_count": null,
   "metadata": {},
   "outputs": [],
   "source": [
    "# time for scraping 40 pages - 3 minutes\n",
    "# lets try with multithreading\n",
    "# with multithreading 40 pages ~ 50 seconds"
   ]
  },
  {
   "cell_type": "markdown",
   "metadata": {},
   "source": [
    "# Multithreading"
   ]
  },
  {
   "cell_type": "code",
   "execution_count": 14,
   "metadata": {},
   "outputs": [
    {
     "name": "stdout",
     "output_type": "stream",
     "text": [
      "Wall time: 3min 53s\n"
     ]
    }
   ],
   "source": [
    "%%time \n",
    "\n",
    "#Multithreading\n",
    "#---------------\n",
    "\n",
    "with concurrent.futures.ThreadPoolExecutor(max_workers=min(LastPage,30)) as executor:\n",
    "    data = list(executor.map(scrape, allUrls))    \n",
    "    all_data_mt = pd.concat(data)"
   ]
  },
  {
   "cell_type": "code",
   "execution_count": 15,
   "metadata": {},
   "outputs": [
    {
     "data": {
      "text/html": [
       "<div>\n",
       "<style scoped>\n",
       "    .dataframe tbody tr th:only-of-type {\n",
       "        vertical-align: middle;\n",
       "    }\n",
       "\n",
       "    .dataframe tbody tr th {\n",
       "        vertical-align: top;\n",
       "    }\n",
       "\n",
       "    .dataframe thead th {\n",
       "        text-align: right;\n",
       "    }\n",
       "</style>\n",
       "<table border=\"1\" class=\"dataframe\">\n",
       "  <thead>\n",
       "    <tr style=\"text-align: right;\">\n",
       "      <th></th>\n",
       "      <th>תאריך</th>\n",
       "      <th>מניה</th>\n",
       "      <th>סוג המלצה</th>\n",
       "      <th>בית השקעות</th>\n",
       "      <th>אנליסט</th>\n",
       "      <th>מחיר בעת המלצה</th>\n",
       "      <th>מחיר יעד</th>\n",
       "      <th>מרחק מהיעד</th>\n",
       "      <th>מחיר אחרון</th>\n",
       "    </tr>\n",
       "  </thead>\n",
       "  <tbody>\n",
       "    <tr>\n",
       "      <th>0</th>\n",
       "      <td>19/09/2021</td>\n",
       "      <td>אנרגיאן</td>\n",
       "      <td>קניה</td>\n",
       "      <td>בנק לאומי</td>\n",
       "      <td>אלה פריד</td>\n",
       "      <td>3384.0</td>\n",
       "      <td>4100.0</td>\n",
       "      <td>21.16%</td>\n",
       "      <td>3473.0</td>\n",
       "    </tr>\n",
       "    <tr>\n",
       "      <th>1</th>\n",
       "      <td>19/09/2021</td>\n",
       "      <td>אייאיאס</td>\n",
       "      <td>קניה</td>\n",
       "      <td>ווליו בייס</td>\n",
       "      <td>שי ליפמן</td>\n",
       "      <td>26260.0</td>\n",
       "      <td>38600.0</td>\n",
       "      <td>46.99%</td>\n",
       "      <td>27220.0</td>\n",
       "    </tr>\n",
       "    <tr>\n",
       "      <th>2</th>\n",
       "      <td>14/09/2021</td>\n",
       "      <td>פריים אנרגי</td>\n",
       "      <td>קניה</td>\n",
       "      <td>פרוסט אנד סאליבן</td>\n",
       "      <td>טיראן רוטמן</td>\n",
       "      <td>1439.0</td>\n",
       "      <td>1930.0</td>\n",
       "      <td>34.12%</td>\n",
       "      <td>1421.0</td>\n",
       "    </tr>\n",
       "    <tr>\n",
       "      <th>3</th>\n",
       "      <td>13/09/2021</td>\n",
       "      <td>אלטשולר שחם גמל</td>\n",
       "      <td>קניה</td>\n",
       "      <td>לאומי פרטנרס</td>\n",
       "      <td>מרב פישר שרוני</td>\n",
       "      <td>1829.0</td>\n",
       "      <td>2300.0</td>\n",
       "      <td>25.75%</td>\n",
       "      <td>1858.0</td>\n",
       "    </tr>\n",
       "    <tr>\n",
       "      <th>4</th>\n",
       "      <td>12/09/2021</td>\n",
       "      <td>אאורה</td>\n",
       "      <td>קניה</td>\n",
       "      <td>ווליו בייס</td>\n",
       "      <td>שי ליפמן</td>\n",
       "      <td>349.9</td>\n",
       "      <td>600.0</td>\n",
       "      <td>71.48%</td>\n",
       "      <td>394.2</td>\n",
       "    </tr>\n",
       "  </tbody>\n",
       "</table>\n",
       "</div>"
      ],
      "text/plain": [
       "        תאריך             מניה סוג המלצה        בית השקעות          אנליסט  \\\n",
       "0  19/09/2021          אנרגיאן      קניה         בנק לאומי        אלה פריד   \n",
       "1  19/09/2021          אייאיאס      קניה        ווליו בייס        שי ליפמן   \n",
       "2  14/09/2021      פריים אנרגי      קניה  פרוסט אנד סאליבן     טיראן רוטמן   \n",
       "3  13/09/2021  אלטשולר שחם גמל      קניה      לאומי פרטנרס  מרב פישר שרוני   \n",
       "4  12/09/2021            אאורה      קניה        ווליו בייס        שי ליפמן   \n",
       "\n",
       "   מחיר בעת המלצה  מחיר יעד מרחק מהיעד  מחיר אחרון  \n",
       "0          3384.0    4100.0     21.16%      3473.0  \n",
       "1         26260.0   38600.0     46.99%     27220.0  \n",
       "2          1439.0    1930.0     34.12%      1421.0  \n",
       "3          1829.0    2300.0     25.75%      1858.0  \n",
       "4           349.9     600.0     71.48%       394.2  "
      ]
     },
     "execution_count": 15,
     "metadata": {},
     "output_type": "execute_result"
    }
   ],
   "source": [
    "all_data_mt.head()"
   ]
  },
  {
   "cell_type": "code",
   "execution_count": 16,
   "metadata": {},
   "outputs": [],
   "source": [
    "all_data_mt.to_excel('israel_analysis.xlsx')"
   ]
  }
 ],
 "metadata": {
  "kernelspec": {
   "display_name": "Python 3",
   "language": "python",
   "name": "python3"
  },
  "language_info": {
   "codemirror_mode": {
    "name": "ipython",
    "version": 3
   },
   "file_extension": ".py",
   "mimetype": "text/x-python",
   "name": "python",
   "nbconvert_exporter": "python",
   "pygments_lexer": "ipython3",
   "version": "3.8.3"
  }
 },
 "nbformat": 4,
 "nbformat_minor": 4
}
